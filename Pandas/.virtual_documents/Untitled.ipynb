%conda install -c conda-forge numpy


conda list
